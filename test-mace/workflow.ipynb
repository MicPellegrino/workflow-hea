{
 "cells": [
  {
   "cell_type": "markdown",
   "id": "fcfdb8a5",
   "metadata": {},
   "source": [
    "Testing modules to import and use MACE, based on the Colab by F. Mambretti: https://github.com/francescomambretti/atomsim_energy_mlp"
   ]
  },
  {
   "cell_type": "code",
   "execution_count": null,
   "id": "9bd5c8ab",
   "metadata": {},
   "outputs": [],
   "source": [
    "# Import for dynamics with ASE\n",
    "import ase\n",
    "from ase.constraints import FixAtoms\n",
    "from ase.md.langevin import Langevin\n",
    "from ase.md.nvtberendsen import NVTBerendsen\n",
    "from ase.md.velocitydistribution import MaxwellBoltzmannDistribution\n",
    "from ase import units\n",
    "from ase import io\n",
    "from ase.calculators.mixing import SumCalculator\n",
    "from ase.visualize import view"
   ]
  },
  {
   "cell_type": "code",
   "execution_count": null,
   "id": "aa062768",
   "metadata": {},
   "outputs": [],
   "source": [
    "# Import for postprocessing & utils\n",
    "import numpy as np\n",
    "import matplotlib as mpl\n",
    "import matplotlib.pyplot as plt\n",
    "import os"
   ]
  },
  {
   "cell_type": "code",
   "execution_count": null,
   "id": "cc6e81e6",
   "metadata": {},
   "outputs": [],
   "source": [
    "# Testing the import of Ovito\n",
    "from ovito.io import import_file, export_file\n",
    "from ovito.modifiers import CoordinationAnalysisModifier, TimeAveragingModifier, SelectTypeModifier"
   ]
  },
  {
   "cell_type": "code",
   "execution_count": null,
   "id": "d4cafd32",
   "metadata": {},
   "outputs": [],
   "source": [
    "# Testing the import of MACE\n",
    "from mace.calculators import mace_mp\n",
    "calc = mace_mp(model=\"medium\", dispersion=False, device='cpu')"
   ]
  }
 ],
 "metadata": {
  "kernelspec": {
   "display_name": "Python 3 (ipykernel)",
   "language": "python",
   "name": "python3"
  },
  "language_info": {
   "codemirror_mode": {
    "name": "ipython",
    "version": 3
   },
   "file_extension": ".py",
   "mimetype": "text/x-python",
   "name": "python",
   "nbconvert_exporter": "python",
   "pygments_lexer": "ipython3",
   "version": "3.10.0"
  }
 },
 "nbformat": 4,
 "nbformat_minor": 5
}
