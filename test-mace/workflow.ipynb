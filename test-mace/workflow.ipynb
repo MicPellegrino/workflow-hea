{
 "cells": [
  {
   "cell_type": "markdown",
   "id": "fcfdb8a5",
   "metadata": {},
   "source": [
    "Testing modules to import and use MACE, based on MACE documnetation https://mace-docs.readthedocs.io/en/latest/guide/ase.html and on the Colab by F. Mambretti: https://github.com/francescomambretti/atomsim_energy_mlp\n",
    "\n",
    "If you haven't installed Ovito already, run `mamba install --strict-channel-priority -c https://conda.ovito.org -c conda-forge ovito=3.11.1` in the terminal (doesn't work from the notebook apparently)."
   ]
  },
  {
   "cell_type": "markdown",
   "id": "bae50f9a",
   "metadata": {},
   "source": [
    "### Test import ASE+MACE"
   ]
  },
  {
   "cell_type": "code",
   "execution_count": 1,
   "id": "d4cafd32",
   "metadata": {},
   "outputs": [
    {
     "name": "stderr",
     "output_type": "stream",
     "text": [
      "/home/michele/mambaforge/envs/workflow-hea/lib/python3.10/site-packages/e3nn/o3/_wigner.py:10: FutureWarning: You are using `torch.load` with `weights_only=False` (the current default value), which uses the default pickle module implicitly. It is possible to construct malicious pickle data which will execute arbitrary code during unpickling (See https://github.com/pytorch/pytorch/blob/main/SECURITY.md#untrusted-models for more details). In a future release, the default value for `weights_only` will be flipped to `True`. This limits the functions that could be executed during unpickling. Arbitrary objects will no longer be allowed to be loaded via this mode unless they are explicitly allowlisted by the user via `torch.serialization.add_safe_globals`. We recommend you start setting `weights_only=True` for any use case where you don't have full control of the loaded file. Please open an issue on GitHub for any issues related to this experimental feature.\n",
      "  _Jd, _W3j_flat, _W3j_indices = torch.load(os.path.join(os.path.dirname(__file__), 'constants.pt'))\n"
     ]
    }
   ],
   "source": [
    "from ase import units\n",
    "from ase.md.langevin import Langevin\n",
    "from ase.md.verlet import VelocityVerlet \n",
    "from ase.io import read, write\n",
    "import numpy as np\n",
    "import time\n",
    "\n",
    "from mace.calculators import MACECalculator\n",
    "\n",
    "# Nasty warning that needs to be resolved..."
   ]
  },
  {
   "cell_type": "code",
   "execution_count": 2,
   "id": "e20197ca",
   "metadata": {},
   "outputs": [
    {
     "name": "stdout",
     "output_type": "stream",
     "text": [
      "cu.data  cu.xyz  md_3bpa.xyz  test_300K.xyz  test_init.data  workflow.ipynb\r\n"
     ]
    }
   ],
   "source": [
    "!ls"
   ]
  },
  {
   "cell_type": "code",
   "execution_count": 3,
   "id": "949bd99e",
   "metadata": {},
   "outputs": [
    {
     "name": "stderr",
     "output_type": "stream",
     "text": [
      "WARNING:root:'model_path' argument is deprecated, please use 'model_paths' in the future.\n",
      "/home/michele/mambaforge/envs/workflow-hea/lib/python3.10/site-packages/mace/calculators/mace.py:130: FutureWarning: You are using `torch.load` with `weights_only=False` (the current default value), which uses the default pickle module implicitly. It is possible to construct malicious pickle data which will execute arbitrary code during unpickling (See https://github.com/pytorch/pytorch/blob/main/SECURITY.md#untrusted-models for more details). In a future release, the default value for `weights_only` will be flipped to `True`. This limits the functions that could be executed during unpickling. Arbitrary objects will no longer be allowed to be loaded via this mode unless they are explicitly allowlisted by the user via `torch.serialization.add_safe_globals`. We recommend you start setting `weights_only=True` for any use case where you don't have full control of the loaded file. Please open an issue on GitHub for any issues related to this experimental feature.\n",
      "  torch.load(f=model_path, map_location=device)\n"
     ]
    },
    {
     "name": "stdout",
     "output_type": "stream",
     "text": [
      "No dtype selected, switching to float64 to match model dtype.\n"
     ]
    }
   ],
   "source": [
    "# Put your favourite MACE model here:\n",
    "calculator = MACECalculator(model_path='/home/michele/lammps-mace/models/mace-mpa-0-medium.model', device='cuda')\n",
    "\n",
    "# Nasty warning that needs to be resolved..."
   ]
  },
  {
   "cell_type": "code",
   "execution_count": 4,
   "id": "b9dea4ff",
   "metadata": {},
   "outputs": [
    {
     "name": "stderr",
     "output_type": "stream",
     "text": [
      "/tmp/ipykernel_280575/474128097.py:4: DeprecationWarning: Please use atoms.calc = calc\n",
      "  init_conf.set_calculator(calculator)\n"
     ]
    }
   ],
   "source": [
    "# Configuration from 'https://github.com/davkovacs/BOTNet-datasets/blob/main/dataset_3BPA/test_300K.xyz'\n",
    "# init_conf = read('test_300K.xyz', '0')\n",
    "\n",
    "# LAMMPS Cu EAM benchmark\n",
    "init_conf = read('cu.xyz', '0')\n",
    "init_conf.set_calculator(calculator)"
   ]
  },
  {
   "cell_type": "code",
   "execution_count": 5,
   "id": "f2f721ee",
   "metadata": {},
   "outputs": [
    {
     "name": "stdout",
     "output_type": "stream",
     "text": [
      "MD finished!\n"
     ]
    }
   ],
   "source": [
    "# dyn = Langevin(init_conf, 0.5*units.fs, temperature_K=310, friction=5e-3)\n",
    "dyn = VelocityVerlet(init_conf, 1.0*units.fs, logfile='md.log')\n",
    "def write_frame():\n",
    "    dyn.atoms.write('md_cu.xyz', append=True)\n",
    "dyn.attach(write_frame, interval=1)\n",
    "dyn.run(100)\n",
    "print(\"MD finished!\")"
   ]
  },
  {
   "cell_type": "markdown",
   "id": "60a0cbd8",
   "metadata": {},
   "source": [
    "## Foundation model to run NVT simulation"
   ]
  },
  {
   "cell_type": "markdown",
   "id": "c68b0081",
   "metadata": {},
   "source": [
    "From: https://mace-docs.readthedocs.io/en/latest/examples/foundation_examples.html\n",
    "\n",
    "Links to the tutorials:\n",
    "- https://colab.research.google.com/drive/1ZrTuTvavXiCxTFyjBV4GqlARxgFwYAtX#scrollTo=UIdFlyFDw9cy\n",
    "- https://colab.research.google.com/drive/1oCSVfMhWrqHTeHbKgUSQN9hTKxLzoNyb\n",
    "- https://colab.research.google.com/drive/1AlfjQETV_jZ0JQnV5M3FGwAM2SGCl2aU\n",
    "\n",
    "Other useful links:\n",
    "- https://mace-docs.readthedocs.io/en/latest/guide/lammps.html\n",
    "- https://docs.lammps.org/Build_extras.html#kokkos\n",
    "- https://github.com/ACEsuit/mace-mp/releases/tag/mace_mp_0"
   ]
  },
  {
   "cell_type": "code",
   "execution_count": null,
   "id": "6b067972",
   "metadata": {},
   "outputs": [],
   "source": [
    "# To be continued ..."
   ]
  }
 ],
 "metadata": {
  "kernelspec": {
   "display_name": "Python 3 (ipykernel)",
   "language": "python",
   "name": "python3"
  },
  "language_info": {
   "codemirror_mode": {
    "name": "ipython",
    "version": 3
   },
   "file_extension": ".py",
   "mimetype": "text/x-python",
   "name": "python",
   "nbconvert_exporter": "python",
   "pygments_lexer": "ipython3",
   "version": "3.10.0"
  }
 },
 "nbformat": 4,
 "nbformat_minor": 5
}
