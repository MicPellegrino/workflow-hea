{
 "cells": [
  {
   "cell_type": "markdown",
   "id": "fcfdb8a5",
   "metadata": {},
   "source": [
    "Testing modules to import and use MACE, based on the Colab by F. Mambretti: https://github.com/francescomambretti/atomsim_energy_mlp\n",
    "\n",
    "If you haven't installed Ovito already, run `mamba install --strict-channel-priority -c https://conda.ovito.org -c conda-forge ovito=3.11.1` in the terminal (doesn't work from the notebook apparently)."
   ]
  },
  {
   "cell_type": "markdown",
   "id": "bae50f9a",
   "metadata": {},
   "source": [
    "### Test import ASE+MACE"
   ]
  },
  {
   "cell_type": "code",
   "execution_count": null,
   "id": "9bd5c8ab",
   "metadata": {},
   "outputs": [],
   "source": [
    "# Import for dynamics with ASE\n",
    "import ase\n",
    "from ase.constraints import FixAtoms\n",
    "from ase.md.langevin import Langevin\n",
    "from ase.md.nvtberendsen import NVTBerendsen\n",
    "from ase.md.velocitydistribution import MaxwellBoltzmannDistribution\n",
    "from ase import units\n",
    "from ase import io\n",
    "from ase.calculators.mixing import SumCalculator\n",
    "from ase.visualize import view"
   ]
  },
  {
   "cell_type": "code",
   "execution_count": null,
   "id": "aa062768",
   "metadata": {},
   "outputs": [],
   "source": [
    "# Import for postprocessing & utils\n",
    "import numpy as np\n",
    "import matplotlib as mpl\n",
    "import matplotlib.pyplot as plt\n",
    "import os"
   ]
  },
  {
   "cell_type": "code",
   "execution_count": null,
   "id": "cc6e81e6",
   "metadata": {},
   "outputs": [],
   "source": [
    "# Testing the import of Ovito\n",
    "from ovito.io import import_file, export_file\n",
    "from ovito.modifiers import CoordinationAnalysisModifier, TimeAveragingModifier, SelectTypeModifier"
   ]
  },
  {
   "cell_type": "code",
   "execution_count": null,
   "id": "d4cafd32",
   "metadata": {},
   "outputs": [],
   "source": [
    "# Testing the import of MACE\n",
    "from mace.calculators import mace_mp\n",
    "calc = mace_mp(model=\"medium\", dispersion=False, device='cpu')"
   ]
  },
  {
   "cell_type": "markdown",
   "id": "60a0cbd8",
   "metadata": {},
   "source": [
    "## Following MACE documentation"
   ]
  },
  {
   "cell_type": "code",
   "execution_count": 1,
   "id": "770d7c9c",
   "metadata": {},
   "outputs": [
    {
     "name": "stderr",
     "output_type": "stream",
     "text": [
      "/home/michele/mambaforge/envs/workflow-hea/lib/python3.10/site-packages/e3nn/o3/_wigner.py:10: FutureWarning: You are using `torch.load` with `weights_only=False` (the current default value), which uses the default pickle module implicitly. It is possible to construct malicious pickle data which will execute arbitrary code during unpickling (See https://github.com/pytorch/pytorch/blob/main/SECURITY.md#untrusted-models for more details). In a future release, the default value for `weights_only` will be flipped to `True`. This limits the functions that could be executed during unpickling. Arbitrary objects will no longer be allowed to be loaded via this mode unless they are explicitly allowlisted by the user via `torch.serialization.add_safe_globals`. We recommend you start setting `weights_only=True` for any use case where you don't have full control of the loaded file. Please open an issue on GitHub for any issues related to this experimental feature.\n",
      "  _Jd, _W3j_flat, _W3j_indices = torch.load(os.path.join(os.path.dirname(__file__), 'constants.pt'))\n"
     ]
    }
   ],
   "source": [
    "from mace.calculators import mace_mp\n",
    "from mace.calculators import MACECalculator\n",
    "from ase import build"
   ]
  },
  {
   "cell_type": "code",
   "execution_count": 2,
   "id": "9559cac4",
   "metadata": {},
   "outputs": [
    {
     "name": "stdout",
     "output_type": "stream",
     "text": [
      "Using Materials Project MACE for MACECalculator with /home/michele/.cache/mace/20231203mace128L1_epoch199model\n",
      "Using float32 for MACECalculator, which is faster but less accurate. Recommended for MD. Use float64 for geometry optimization.\n"
     ]
    },
    {
     "name": "stderr",
     "output_type": "stream",
     "text": [
      "/home/michele/mambaforge/envs/workflow-hea/lib/python3.10/site-packages/mace/calculators/mace.py:130: FutureWarning: You are using `torch.load` with `weights_only=False` (the current default value), which uses the default pickle module implicitly. It is possible to construct malicious pickle data which will execute arbitrary code during unpickling (See https://github.com/pytorch/pytorch/blob/main/SECURITY.md#untrusted-models for more details). In a future release, the default value for `weights_only` will be flipped to `True`. This limits the functions that could be executed during unpickling. Arbitrary objects will no longer be allowed to be loaded via this mode unless they are explicitly allowlisted by the user via `torch.serialization.add_safe_globals`. We recommend you start setting `weights_only=True` for any use case where you don't have full control of the loaded file. Please open an issue on GitHub for any issues related to this experimental feature.\n",
      "  torch.load(f=model_path, map_location=device)\n"
     ]
    },
    {
     "name": "stdout",
     "output_type": "stream",
     "text": [
      "Default dtype float32 does not match model dtype float64, converting models to float32.\n"
     ]
    }
   ],
   "source": [
    "macemp = mace_mp(enable_cueq=True)  # Return ASE calculator\n",
    "atoms = build.molecule('H2O')\n",
    "descriptors_mp = macemp.get_descriptors(atoms)"
   ]
  },
  {
   "cell_type": "code",
   "execution_count": 3,
   "id": "53549aca",
   "metadata": {},
   "outputs": [
    {
     "ename": "ValueError",
     "evalue": "Couldn't find MACE model files: mace_agnesi_small.model",
     "output_type": "error",
     "traceback": [
      "\u001b[0;31m---------------------------------------------------------------------------\u001b[0m",
      "\u001b[0;31mValueError\u001b[0m                                Traceback (most recent call last)",
      "Cell \u001b[0;32mIn[3], line 1\u001b[0m\n\u001b[0;32m----> 1\u001b[0m mace_calc \u001b[38;5;241m=\u001b[39m \u001b[43mMACECalculator\u001b[49m\u001b[43m(\u001b[49m\u001b[43mmodel_paths\u001b[49m\u001b[38;5;241;43m=\u001b[39;49m\u001b[38;5;124;43m\"\u001b[39;49m\u001b[38;5;124;43mmace_agnesi_small.model\u001b[39;49m\u001b[38;5;124;43m\"\u001b[39;49m\u001b[43m,\u001b[49m\u001b[43m \u001b[49m\u001b[43menable_cueq\u001b[49m\u001b[38;5;241;43m=\u001b[39;49m\u001b[38;5;28;43;01mTrue\u001b[39;49;00m\u001b[43m)\u001b[49m\n\u001b[1;32m      2\u001b[0m atoms \u001b[38;5;241m=\u001b[39m build\u001b[38;5;241m.\u001b[39mmolecule(\u001b[38;5;124m'\u001b[39m\u001b[38;5;124mH2O\u001b[39m\u001b[38;5;124m'\u001b[39m)\n\u001b[1;32m      3\u001b[0m atoms\u001b[38;5;241m.\u001b[39mcalc \u001b[38;5;241m=\u001b[39m mace_calc\n",
      "File \u001b[0;32m~/mambaforge/envs/workflow-hea/lib/python3.10/site-packages/mace/calculators/mace.py:118\u001b[0m, in \u001b[0;36mMACECalculator.__init__\u001b[0;34m(self, model_paths, models, device, energy_units_to_eV, length_units_to_A, default_dtype, charges_key, model_type, compile_mode, fullgraph, **kwargs)\u001b[0m\n\u001b[1;32m    115\u001b[0m     model_paths_glob \u001b[38;5;241m=\u001b[39m glob(model_paths)\n\u001b[1;32m    117\u001b[0m     \u001b[38;5;28;01mif\u001b[39;00m \u001b[38;5;28mlen\u001b[39m(model_paths_glob) \u001b[38;5;241m==\u001b[39m \u001b[38;5;241m0\u001b[39m:\n\u001b[0;32m--> 118\u001b[0m         \u001b[38;5;28;01mraise\u001b[39;00m \u001b[38;5;167;01mValueError\u001b[39;00m(\u001b[38;5;124mf\u001b[39m\u001b[38;5;124m\"\u001b[39m\u001b[38;5;124mCouldn\u001b[39m\u001b[38;5;124m'\u001b[39m\u001b[38;5;124mt find MACE model files: \u001b[39m\u001b[38;5;132;01m{\u001b[39;00mmodel_paths\u001b[38;5;132;01m}\u001b[39;00m\u001b[38;5;124m\"\u001b[39m)\n\u001b[1;32m    120\u001b[0m     model_paths \u001b[38;5;241m=\u001b[39m model_paths_glob\n\u001b[1;32m    121\u001b[0m \u001b[38;5;28;01melif\u001b[39;00m \u001b[38;5;28misinstance\u001b[39m(model_paths, Path):\n",
      "\u001b[0;31mValueError\u001b[0m: Couldn't find MACE model files: mace_agnesi_small.model"
     ]
    }
   ],
   "source": [
    "mace_calc = MACECalculator(model_paths=\"mace_agnesi_small.model\", enable_cueq=True)\n",
    "atoms = build.molecule('H2O')\n",
    "atoms.calc = mace_calc"
   ]
  },
  {
   "cell_type": "code",
   "execution_count": null,
   "id": "ebf9ff67",
   "metadata": {},
   "outputs": [],
   "source": []
  }
 ],
 "metadata": {
  "kernelspec": {
   "display_name": "Python 3 (ipykernel)",
   "language": "python",
   "name": "python3"
  },
  "language_info": {
   "codemirror_mode": {
    "name": "ipython",
    "version": 3
   },
   "file_extension": ".py",
   "mimetype": "text/x-python",
   "name": "python",
   "nbconvert_exporter": "python",
   "pygments_lexer": "ipython3",
   "version": "3.10.0"
  }
 },
 "nbformat": 4,
 "nbformat_minor": 5
}
