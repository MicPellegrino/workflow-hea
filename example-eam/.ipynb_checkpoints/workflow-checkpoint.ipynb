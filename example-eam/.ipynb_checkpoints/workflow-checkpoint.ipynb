{
 "cells": [
  {
   "cell_type": "markdown",
   "id": "f3bf9412",
   "metadata": {},
   "source": [
    "### Example of LAMMPS workflow\n",
    "\n",
    "- The workflow is partially based on: https://gsalvatovallverdu.gitlab.io/python/2022-18-07-lammps-compute-with-python/\n",
    "- Data are taken from an example by Simon Gravelle: https://github.com/simongravelle/lammps-input-files/tree/main/inputs/melting-gold"
   ]
  },
  {
   "cell_type": "code",
   "execution_count": null,
   "id": "b6e55108",
   "metadata": {},
   "outputs": [],
   "source": [
    "# LAMMPS Python API\n",
    "import lammps"
   ]
  },
  {
   "cell_type": "code",
   "execution_count": null,
   "id": "d428f6a7",
   "metadata": {},
   "outputs": [],
   "source": [
    "# For analysis and visualization\n",
    "import MDAnalysis as md\n",
    "# 'ase' (Atomic Simulation Environment) could be used instead \n",
    "# or in combination to"
   ]
  },
  {
   "cell_type": "code",
   "execution_count": null,
   "id": "3f5fa41d",
   "metadata": {},
   "outputs": [],
   "source": [
    "# For plotting output\n",
    "import matplotlib.pyplot as plt"
   ]
  },
  {
   "cell_type": "code",
   "execution_count": null,
   "id": "f52dc41a",
   "metadata": {},
   "outputs": [],
   "source": [
    "# For visualizing trajectories in the notebook\n",
    "import nglview as ng\n",
    "# 'ovito' may be used instead"
   ]
  },
  {
   "cell_type": "code",
   "execution_count": null,
   "id": "aa944106",
   "metadata": {},
   "outputs": [],
   "source": [
    "# Other libraries\n",
    "# import numpy as np\n",
    "# ... scipy ...\n",
    "# ... mace ..."
   ]
  },
  {
   "cell_type": "code",
   "execution_count": null,
   "id": "fd6ae35b",
   "metadata": {},
   "outputs": [],
   "source": [
    "def read_lammps_dat(fn,nvar=2) :\n",
    "    \"\"\"\n",
    "        Auxillary function that reads a LAMMPS output .dat file and\n",
    "        returns a dictionary (keys = variable names)\n",
    "    \"\"\"\n",
    "    data = dict()\n",
    "    n = 0\n",
    "    with open(fn, 'r') as file:\n",
    "        for line in file:\n",
    "            n += 1\n",
    "            columns = line.strip().split()\n",
    "            if line.startswith('#') and n==2 :\n",
    "                varnames = line.strip('#').split()\n",
    "                for vn in varnames :\n",
    "                    data[vn] = []\n",
    "            elif len(columns) == nvar:\n",
    "                for i in range(nvar) :\n",
    "                    data[varnames[i]].append(float(columns[i]))\n",
    "            else:\n",
    "                print(f\"Skipping line: {line.strip()}\")\n",
    "    return data"
   ]
  },
  {
   "cell_type": "code",
   "execution_count": null,
   "id": "c35401f0",
   "metadata": {},
   "outputs": [],
   "source": [
    "lmp = lammps.lammps()"
   ]
  },
  {
   "cell_type": "code",
   "execution_count": null,
   "id": "0d8c48e6",
   "metadata": {},
   "outputs": [],
   "source": [
    "!ls"
   ]
  },
  {
   "cell_type": "code",
   "execution_count": null,
   "id": "7c30ec89",
   "metadata": {},
   "outputs": [],
   "source": [
    "# Look up for the reference input parameters of the example (optional)\n",
    "# !cat input.lammps"
   ]
  },
  {
   "cell_type": "code",
   "execution_count": null,
   "id": "54a03276",
   "metadata": {},
   "outputs": [],
   "source": [
    "# This is probably not the best way to go, as it kinda defeats \n",
    "# the purpose of having an API in the first place?\n",
    "# lmp.file(\"input.lammps\")"
   ]
  },
  {
   "cell_type": "code",
   "execution_count": null,
   "id": "45eedf9a",
   "metadata": {},
   "outputs": [],
   "source": [
    "### SIMULATION PARAMETERS ###\n",
    "\n",
    "lattice_spacing = 4.065 # [Å]\n",
    "initial_temperature = 1 # [K]\n",
    "final_temperature = 2500 # [K]\n",
    "tdamp = 0.1 # [ps]\n",
    "dt = 0.001 # [ps]\n",
    "nsteps = 10000\n",
    "velocity_seed = 425521\n",
    "dump_temp_every = 1\n",
    "dump_temp_repeat = 10\n",
    "dump_temp_freq = 100\n",
    "dump_traj = 100\n",
    "dump_thermodynamics = 100\n",
    "\n",
    "### --------------------- ###"
   ]
  },
  {
   "cell_type": "code",
   "execution_count": null,
   "id": "38458318",
   "metadata": {},
   "outputs": [],
   "source": [
    "# Defining auxillary variables\n",
    "lmp.commands_list([\n",
    "    'variable fccAu equal '+str(lattice_spacing),\n",
    "    'variable L1 equal ${fccAu}*8',\n",
    "    'variable L2 equal ${fccAu}*4',\n",
    "    'variable Ti equal '+str(initial_temperature),\n",
    "    'variable Tf equal '+str(final_temperature)\n",
    "])"
   ]
  },
  {
   "cell_type": "code",
   "execution_count": null,
   "id": "579cc018",
   "metadata": {},
   "outputs": [],
   "source": [
    "# Defining units and boundary styles\n",
    "lmp.commands_list([\n",
    "    'units metal',\n",
    "    'boundary p p p',\n",
    "    'atom_style atomic'\n",
    "])"
   ]
  },
  {
   "cell_type": "code",
   "execution_count": null,
   "id": "c960ff3d",
   "metadata": {},
   "outputs": [],
   "source": [
    "# Defining regions and the computational box\n",
    "lmp.commands_list([\n",
    "    'region system block -${L1} ${L1} -${L1} ${L1} -${L1} ${L1}',\n",
    "    'region cube block -${L2} ${L2} -${L2} ${L2} -${L2} ${L2}',\n",
    "    'create_box 1 system'\n",
    "])"
   ]
  },
  {
   "cell_type": "code",
   "execution_count": null,
   "id": "602769b2",
   "metadata": {},
   "outputs": [],
   "source": [
    "# Including the force field\n",
    "lmp.command('include parm.lammps')"
   ]
  },
  {
   "cell_type": "code",
   "execution_count": null,
   "id": "a8c663d8",
   "metadata": {},
   "outputs": [],
   "source": [
    "# Creating the lattice\n",
    "lmp.commands_list([\n",
    "    'lattice fcc '+str(lattice_spacing),\n",
    "    'create_atoms 1 region cube',\n",
    "    'lattice none 1.0'\n",
    "])"
   ]
  },
  {
   "cell_type": "code",
   "execution_count": null,
   "id": "632903f5",
   "metadata": {},
   "outputs": [],
   "source": [
    "# Initializing ensemble and dynamics\n",
    "lmp.commands_list([\n",
    "    'velocity all create ${Ti} '+str(velocity_seed)+' rot yes mom yes dist gaussian',\n",
    "    'fix mynvt all nvt temp ${Ti} ${Tf} '+str(tdamp),\n",
    "    'fix myrc all recenter INIT INIT INIT',\n",
    "    'timestep '+str(dt)\n",
    "])"
   ]
  },
  {
   "cell_type": "code",
   "execution_count": null,
   "id": "1b699e91",
   "metadata": {},
   "outputs": [],
   "source": [
    "# Temperature output\n",
    "lmp.commands_list([\n",
    "    'variable mytemp equal temp',\n",
    "    'fix myat1 all ave/time '+str(dump_temp_every)+' '+str(dump_temp_repeat)+\n",
    "    ' '+str(dump_temp_freq)+' v_mytemp file temperature.dat'\n",
    "])"
   ]
  },
  {
   "cell_type": "code",
   "execution_count": null,
   "id": "a99643e0",
   "metadata": {},
   "outputs": [],
   "source": [
    "# Define dump frequency for logging\n",
    "lmp.commands_list([\n",
    "    'dump dp1 all atom '+str(dump_traj)+' dump.lammpstrj',\n",
    "    'thermo '+str(dump_thermodynamics)\n",
    "])"
   ]
  },
  {
   "cell_type": "code",
   "execution_count": null,
   "id": "5b6a11c0",
   "metadata": {},
   "outputs": [],
   "source": [
    "# RUN!\n",
    "lmp.command('run '+str(nsteps))"
   ]
  },
  {
   "cell_type": "code",
   "execution_count": null,
   "id": "b1f49182",
   "metadata": {},
   "outputs": [],
   "source": [
    "!head temperature.dat"
   ]
  },
  {
   "cell_type": "code",
   "execution_count": null,
   "id": "e6b9e72a",
   "metadata": {},
   "outputs": [],
   "source": [
    "temperature = read_lammps_dat('temperature.dat')"
   ]
  },
  {
   "cell_type": "code",
   "execution_count": null,
   "id": "086bf1a6",
   "metadata": {},
   "outputs": [],
   "source": [
    "%matplotlib notebook\n",
    "\n",
    "plt.plot(temperature['TimeStep'],temperature['v_mytemp'])\n",
    "plt.xlabel('time [ps]')\n",
    "plt.ylabel('temperature [K]')\n",
    "plt.show()"
   ]
  },
  {
   "cell_type": "code",
   "execution_count": null,
   "id": "249f877d",
   "metadata": {},
   "outputs": [],
   "source": [
    "# Necessary since MDAnalysis won't read .lammpstrj files...\n",
    "!cp dump.lammpstrj dump.lammpsdump"
   ]
  },
  {
   "cell_type": "code",
   "execution_count": null,
   "id": "447a2879",
   "metadata": {},
   "outputs": [],
   "source": [
    "# Quick and dirty solution, it would be better to pass \n",
    "# a topology file as input\n",
    "unilmp = md.Universe('dump.lammpsdump', atom_style='id type x y z')"
   ]
  },
  {
   "cell_type": "code",
   "execution_count": null,
   "id": "d07536b4",
   "metadata": {},
   "outputs": [],
   "source": [
    "ngview1 = ng.show_mdanalysis(unilmp)\n",
    "ngview1"
   ]
  },
  {
   "cell_type": "code",
   "execution_count": null,
   "id": "367448fc",
   "metadata": {},
   "outputs": [],
   "source": [
    "lmp.close()"
   ]
  }
 ],
 "metadata": {
  "kernelspec": {
   "display_name": "Python 3 (ipykernel)",
   "language": "python",
   "name": "python3"
  },
  "language_info": {
   "codemirror_mode": {
    "name": "ipython",
    "version": 3
   },
   "file_extension": ".py",
   "mimetype": "text/x-python",
   "name": "python",
   "nbconvert_exporter": "python",
   "pygments_lexer": "ipython3",
   "version": "3.10.0"
  }
 },
 "nbformat": 4,
 "nbformat_minor": 5
}
