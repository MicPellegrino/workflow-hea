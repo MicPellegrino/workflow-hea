{
 "cells": [
  {
   "cell_type": "code",
   "execution_count": 1,
   "metadata": {},
   "outputs": [],
   "source": [
    "import random\n",
    "import re\n",
    "import os"
   ]
  },
  {
   "cell_type": "code",
   "execution_count": 2,
   "metadata": {},
   "outputs": [],
   "source": [
    "def select_new_type(modifications):\n",
    "    r = random.uniform(0, 100)\n",
    "    cumulative = 0\n",
    "    for new_type, pct in modifications.items():\n",
    "        cumulative += pct\n",
    "        if r < cumulative:\n",
    "            return new_type\n",
    "    return '1'"
   ]
  },
  {
   "cell_type": "code",
   "execution_count": 3,
   "metadata": {},
   "outputs": [],
   "source": [
    "def modify_data_file(input_file, output_file, modifications, new_masses=None):\n",
    "    \n",
    "    \"\"\"\n",
    "    modifications: dict mapping new type (str) to percentage (e.g. {'2': 30, '3': 15, '4': 45})\n",
    "    new_masses (optional): dict mapping new type (str) to mass (float) for new types (e.g. {'2': 78.2, '3': 104.11, '4': 93.0})\n",
    "    Assumes original file contains only type 1 atoms.\n",
    "    \"\"\"\n",
    "    \n",
    "    new_atom_types = max([1] + [int(k) for k in modifications.keys()])\n",
    "    with open(input_file, 'r') as f:\n",
    "        lines = f.readlines()\n",
    "\n",
    "    # Split header and body (Atoms section)\n",
    "    # If new_masses=None, then delete the part of the header with masses\n",
    "    body_init_idx = next((i for i, line in enumerate(lines) if \"Atoms\" in line), len(lines))\n",
    "    if new_masses == None :\n",
    "        header_end_idx = next((i for i, line in enumerate(lines) if \"Masses\" in line), len(lines))\n",
    "    if new_masses == None and header_end_idx<=body_init_idx:\n",
    "        header = lines[:header_end_idx]\n",
    "    else :\n",
    "        header = lines[:body_init_idx]\n",
    "    body = lines[body_init_idx:]\n",
    "\n",
    "    # Update \"atom types\" line in header\n",
    "    for i, line in enumerate(header):\n",
    "        if \"atom types\" in line:\n",
    "            parts = line.split()\n",
    "            parts[0] = str(new_atom_types)\n",
    "            header[i] = ' '.join(parts) + '\\n'\n",
    "            break\n",
    "\n",
    "    if new_masses != None :\n",
    "        # Replace Masses block in header\n",
    "        masses_idx = next((i for i, line in enumerate(header) if \"Masses\" in line), None)\n",
    "        if masses_idx is not None:\n",
    "            masses_block_end = masses_idx + 1\n",
    "            while masses_block_end < len(header):\n",
    "                stripped = header[masses_block_end].strip()\n",
    "                if stripped == \"\" or re.match(r'^\\d+\\s+.*', stripped):\n",
    "                    masses_block_end += 1\n",
    "                else:\n",
    "                    break\n",
    "            mass1 = None\n",
    "            for j in range(masses_idx + 1, masses_block_end):\n",
    "                if header[j].strip() != \"\":\n",
    "                    parts = header[j].strip().split()\n",
    "                    if parts[0] == '1':\n",
    "                        mass1 = parts[1]\n",
    "                        break\n",
    "            if mass1 is None:\n",
    "                mass1 = \"0.0\"\n",
    "            new_masses_block = [\"Masses\\n\", \"\\n\"]\n",
    "            for i in range(1, new_atom_types + 1):\n",
    "                if i == 1:\n",
    "                    new_masses_block.append(f\"1 {mass1}\\n\")\n",
    "                else:\n",
    "                    mass_val = new_masses.get(str(i), \"0.0\")\n",
    "                    new_masses_block.append(f\"{i} {mass_val}\\n\")\n",
    "            header = header[:masses_idx] + new_masses_block + header[masses_block_end:]\n",
    "\n",
    "    # Process Atoms section in body\n",
    "    modified_body = []\n",
    "    in_atoms_section = False\n",
    "    for line in body:\n",
    "        if \"Atoms\" in line:\n",
    "            in_atoms_section = True\n",
    "            modified_body.append(line)\n",
    "            continue\n",
    "        if in_atoms_section:\n",
    "            if any(section in line for section in [\"Velocities\", \"Bonds\", \"Angles\"]):\n",
    "                in_atoms_section = False\n",
    "                modified_body.append(line)\n",
    "                continue\n",
    "            if line.strip() == \"\":\n",
    "                modified_body.append(line)\n",
    "                continue\n",
    "            parts = line.strip().split()\n",
    "            if parts[1] == '1':\n",
    "                parts[1] = select_new_type(modifications)\n",
    "            modified_body.append(' '.join(parts) + '\\n')\n",
    "        else:\n",
    "            modified_body.append(line)\n",
    "\n",
    "    new_lines = header + modified_body\n",
    "    with open(output_file, 'w') as f:\n",
    "        f.writelines(new_lines)\n",
    "    print(f\"Modified file saved as: {output_file}\")"
   ]
  },
  {
   "cell_type": "code",
   "execution_count": 4,
   "metadata": {},
   "outputs": [
    {
     "name": "stdout",
     "output_type": "stream",
     "text": [
      "/home/michele/workflow-hea/ti-al-droplets\r\n"
     ]
    }
   ],
   "source": [
    "!pwd"
   ]
  },
  {
   "cell_type": "code",
   "execution_count": 5,
   "metadata": {},
   "outputs": [
    {
     "name": "stdout",
     "output_type": "stream",
     "text": [
      "diffusion\t      droplet_Ti.data\t\tviscosity\r\n",
      "droplet_Al.data       equilibrate-alti.lammps\tviscosity-npt\r\n",
      "droplet_AlTi.data     log.lammps\t\tviscosity-nve\r\n",
      "droplet_AlTi_eq.data  melting-ti.lammps\r\n",
      "droplets\t      system_preparation.ipynb\r\n"
     ]
    }
   ],
   "source": [
    "!ls"
   ]
  },
  {
   "cell_type": "code",
   "execution_count": 6,
   "metadata": {},
   "outputs": [],
   "source": [
    "input_file = \"/home/michele/workflow-hea/ti-al-droplets/droplets/molten_Al.data\"\n",
    "of_folder_root = \"/home/michele/workflow-hea/ti-al-droplets/droplets/\""
   ]
  },
  {
   "cell_type": "code",
   "execution_count": 7,
   "metadata": {},
   "outputs": [],
   "source": [
    "alpha = {\n",
    "    '000' : 0.0, \n",
    "    '020' : 20.0, \n",
    "    '040' : 40.0, \n",
    "    '060' : 60.0, \n",
    "    '080' : 80.0, \n",
    "    '100' : 100.0\n",
    "}"
   ]
  },
  {
   "cell_type": "code",
   "execution_count": 8,
   "metadata": {},
   "outputs": [
    {
     "name": "stdout",
     "output_type": "stream",
     "text": [
      "Modified file saved as: /home/michele/workflow-hea/ti-al-droplets/droplets/000/molten_AlTi.data\n",
      "Modified file saved as: /home/michele/workflow-hea/ti-al-droplets/droplets/020/molten_AlTi.data\n",
      "Modified file saved as: /home/michele/workflow-hea/ti-al-droplets/droplets/040/molten_AlTi.data\n",
      "Modified file saved as: /home/michele/workflow-hea/ti-al-droplets/droplets/060/molten_AlTi.data\n",
      "Modified file saved as: /home/michele/workflow-hea/ti-al-droplets/droplets/080/molten_AlTi.data\n",
      "Modified file saved as: /home/michele/workflow-hea/ti-al-droplets/droplets/100/molten_AlTi.data\n"
     ]
    },
    {
     "name": "stderr",
     "output_type": "stream",
     "text": [
      "mkdir: cannot create directory ‘/home/michele/workflow-hea/ti-al-droplets/droplets/000’: File exists\n",
      "mkdir: cannot create directory ‘/home/michele/workflow-hea/ti-al-droplets/droplets/020’: File exists\n",
      "mkdir: cannot create directory ‘/home/michele/workflow-hea/ti-al-droplets/droplets/040’: File exists\n",
      "mkdir: cannot create directory ‘/home/michele/workflow-hea/ti-al-droplets/droplets/060’: File exists\n",
      "mkdir: cannot create directory ‘/home/michele/workflow-hea/ti-al-droplets/droplets/080’: File exists\n",
      "mkdir: cannot create directory ‘/home/michele/workflow-hea/ti-al-droplets/droplets/100’: File exists\n"
     ]
    }
   ],
   "source": [
    "for l, a in alpha.items() :\n",
    "    os.system(\"mkdir \"+of_folder_root+l)\n",
    "    output_file = of_folder_root+l+\"/molten_AlTi.data\"\n",
    "    modifications = {'2': a}\n",
    "    modify_data_file(input_file, output_file, modifications)"
   ]
  },
  {
   "cell_type": "code",
   "execution_count": null,
   "metadata": {},
   "outputs": [],
   "source": []
  }
 ],
 "metadata": {
  "kernelspec": {
   "display_name": "Python 3 (ipykernel)",
   "language": "python",
   "name": "python3"
  },
  "language_info": {
   "codemirror_mode": {
    "name": "ipython",
    "version": 3
   },
   "file_extension": ".py",
   "mimetype": "text/x-python",
   "name": "python",
   "nbconvert_exporter": "python",
   "pygments_lexer": "ipython3",
   "version": "3.10.0"
  }
 },
 "nbformat": 4,
 "nbformat_minor": 2
}
