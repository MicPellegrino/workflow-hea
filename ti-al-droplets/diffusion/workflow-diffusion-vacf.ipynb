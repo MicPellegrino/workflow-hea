{
 "cells": [
  {
   "cell_type": "code",
   "execution_count": null,
   "id": "f099256f",
   "metadata": {},
   "outputs": [],
   "source": [
    "import lammps\n",
    "import os"
   ]
  },
  {
   "cell_type": "code",
   "execution_count": null,
   "id": "d439efe5",
   "metadata": {},
   "outputs": [],
   "source": [
    "!ls\n",
    "!cat params.lammps"
   ]
  },
  {
   "cell_type": "code",
   "execution_count": null,
   "id": "e664cff3",
   "metadata": {},
   "outputs": [],
   "source": [
    "!cd '000'\n",
    "!ls"
   ]
  },
  {
   "cell_type": "code",
   "execution_count": null,
   "id": "fac2a463",
   "metadata": {},
   "outputs": [],
   "source": [
    "lmp = lammps.lammps()"
   ]
  },
  {
   "cell_type": "code",
   "execution_count": null,
   "id": "2a4b5b34",
   "metadata": {},
   "outputs": [],
   "source": [
    "print(\"LAMMPS version: \"+str(lmp.version()))\n",
    "print(\"OS info: \"+lmp.get_os_info())"
   ]
  },
  {
   "cell_type": "code",
   "execution_count": null,
   "id": "d5d2c7af",
   "metadata": {},
   "outputs": [],
   "source": [
    "# Need to install API from LAMMPS plugin with GPU package (CUDA)...\n",
    "# lmp.command(\"suffix gpu\")\n",
    "# lmp.command(\"package gpu 1\")"
   ]
  },
  {
   "cell_type": "code",
   "execution_count": null,
   "id": "b8335f77",
   "metadata": {},
   "outputs": [],
   "source": [
    "pwd = os.getcwd()\n",
    "print(pwd)"
   ]
  },
  {
   "cell_type": "code",
   "execution_count": null,
   "id": "e10e4092",
   "metadata": {},
   "outputs": [],
   "source": [
    "# File names\n",
    "foln = pwd\n",
    "indata = foln+\"/molten_AlTi_eq.data\"\n",
    "fvacf1 = foln+\"/vacf-1.dat\"\n",
    "fvacf2 = foln+\"/vacf-2.dat\"\n",
    "fivacf1 = foln+\"/ivacf-1.dat\"\n",
    "fivacf2 = foln+\"/ivacf-2.dat\""
   ]
  },
  {
   "cell_type": "code",
   "execution_count": null,
   "id": "76eeb48d",
   "metadata": {},
   "outputs": [],
   "source": [
    "# Run parameters\n",
    "n_run = 100000 # *0.001=fs\n",
    "n_rep = 10"
   ]
  },
  {
   "cell_type": "code",
   "execution_count": null,
   "id": "7d225a89",
   "metadata": {},
   "outputs": [],
   "source": [
    "# Define LAMMPS variables\n",
    "lmp.commands_list([\n",
    "    \"variable foln string \"+foln,\n",
    "    \"variable indata string \"+indata,\n",
    "    \"variable fvacf1 string \"+fvacf1,\n",
    "    \"variable fvacf2 string \"+fvacf2,\n",
    "    \"variable fivacf1 string \"+fivacf1,\n",
    "    \"variable fivacf2 string \"+fivacf2,\n",
    "])"
   ]
  },
  {
   "cell_type": "code",
   "execution_count": null,
   "id": "9c4c17aa",
   "metadata": {},
   "outputs": [],
   "source": [
    "lmp.file(\"../params.lammps\")"
   ]
  },
  {
   "cell_type": "code",
   "execution_count": null,
   "id": "ab888853",
   "metadata": {},
   "outputs": [],
   "source": [
    "lmp.command(\"run \"+str(n_run))"
   ]
  },
  {
   "cell_type": "code",
   "execution_count": null,
   "id": "e169c136",
   "metadata": {},
   "outputs": [],
   "source": []
  }
 ],
 "metadata": {
  "kernelspec": {
   "display_name": "Python 3 (ipykernel)",
   "language": "python",
   "name": "python3"
  },
  "language_info": {
   "codemirror_mode": {
    "name": "ipython",
    "version": 3
   },
   "file_extension": ".py",
   "mimetype": "text/x-python",
   "name": "python",
   "nbconvert_exporter": "python",
   "pygments_lexer": "ipython3",
   "version": "3.10.0"
  }
 },
 "nbformat": 4,
 "nbformat_minor": 5
}
