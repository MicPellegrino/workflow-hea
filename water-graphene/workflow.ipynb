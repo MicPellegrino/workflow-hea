{
 "cells": [
  {
   "cell_type": "code",
   "execution_count": null,
   "id": "90c46b90",
   "metadata": {},
   "outputs": [],
   "source": [
    "import lammps"
   ]
  },
  {
   "cell_type": "code",
   "execution_count": null,
   "id": "1eaf6227",
   "metadata": {},
   "outputs": [],
   "source": [
    "lmp = lammps.lammps()"
   ]
  },
  {
   "cell_type": "code",
   "execution_count": null,
   "id": "a102fbe9",
   "metadata": {},
   "outputs": [],
   "source": [
    "print(\"LAMMPS version: \"+str(lmp.version()))\n",
    "print(\"OS info: \"+lmp.get_os_info())"
   ]
  },
  {
   "cell_type": "code",
   "execution_count": null,
   "id": "e24bd0a1",
   "metadata": {},
   "outputs": [],
   "source": [
    "# Some auxiliary functions\n",
    "def lmp_read_data(lmp, data_file) :\n",
    "    lmp.command(\"read_data \"+data_file)"
   ]
  },
  {
   "cell_type": "code",
   "execution_count": null,
   "id": "017d1e99",
   "metadata": {},
   "outputs": [],
   "source": [
    "!ls"
   ]
  },
  {
   "cell_type": "code",
   "execution_count": null,
   "id": "63fbc6a3",
   "metadata": {},
   "outputs": [],
   "source": [
    "# Rename or make a fancy function to 'guess' the file types\n",
    "in_file = \"Water_Graph_40%_relax.in\"\n",
    "init_file = \"Water_Graph_40%_relax.in.init\"\n",
    "data_file = \"Water_Graph_40%.data\"\n",
    "settings_file = \"Water_Graph_40%_relax.in.settings\"\n",
    "run_file = \"Water_Graph_40%_relax.in.run\"\n",
    "ff_files = {\"TERSOFF_forcefield.ff\"}"
   ]
  },
  {
   "cell_type": "code",
   "execution_count": null,
   "id": "f35bb9a1",
   "metadata": {},
   "outputs": [],
   "source": [
    "!cat README.txt"
   ]
  },
  {
   "cell_type": "code",
   "execution_count": null,
   "id": "0f5ed56e",
   "metadata": {},
   "outputs": [],
   "source": [
    "# We could just read this file with \"lmp.file()\", but let's go step-by-step\n",
    "!cat {in_file}"
   ]
  },
  {
   "cell_type": "markdown",
   "id": "79d4eac1",
   "metadata": {},
   "source": [
    "### Initialization"
   ]
  },
  {
   "cell_type": "code",
   "execution_count": null,
   "id": "566fbab7",
   "metadata": {},
   "outputs": [],
   "source": [
    "!cat {init_file}"
   ]
  },
  {
   "cell_type": "code",
   "execution_count": null,
   "id": "d50a165a",
   "metadata": {},
   "outputs": [],
   "source": [
    "# Reading initialization file:\n",
    "lmp.file(init_file)"
   ]
  },
  {
   "cell_type": "markdown",
   "id": "61fec2f7",
   "metadata": {},
   "source": [
    "### Data (topology and configuration)"
   ]
  },
  {
   "cell_type": "code",
   "execution_count": null,
   "id": "4634e228",
   "metadata": {},
   "outputs": [],
   "source": [
    "!cat {data_file}"
   ]
  },
  {
   "cell_type": "code",
   "execution_count": null,
   "id": "fbee81e3",
   "metadata": {},
   "outputs": [],
   "source": [
    "# Reading data file:\n",
    "lmp_read_data(lmp,data_file)"
   ]
  },
  {
   "cell_type": "markdown",
   "id": "1da49c6e",
   "metadata": {},
   "source": [
    "### Simulation settings and force field"
   ]
  },
  {
   "cell_type": "code",
   "execution_count": null,
   "id": "99ee7ef7",
   "metadata": {},
   "outputs": [],
   "source": [
    "# Settings\n",
    "!cat {settings_file}"
   ]
  },
  {
   "cell_type": "code",
   "execution_count": null,
   "id": "9e8c50ea",
   "metadata": {},
   "outputs": [],
   "source": [
    "for ff in ff_files:\n",
    "    print(ff+\":\\n\")\n",
    "    !cat {ff}\n",
    "    print(\"\\n\")"
   ]
  },
  {
   "cell_type": "code",
   "execution_count": null,
   "id": "5e78bd98",
   "metadata": {},
   "outputs": [],
   "source": [
    "# It would be better to pass the force field as variable, but I don't know if that's possible\n",
    "lmp.file(settings_file)"
   ]
  },
  {
   "cell_type": "markdown",
   "id": "e09851d0",
   "metadata": {},
   "source": [
    "### Run"
   ]
  },
  {
   "cell_type": "code",
   "execution_count": null,
   "id": "c2163770",
   "metadata": {},
   "outputs": [],
   "source": [
    "!cat {run_file}"
   ]
  },
  {
   "cell_type": "code",
   "execution_count": null,
   "id": "197f134a",
   "metadata": {},
   "outputs": [],
   "source": [
    "# Runs parameters:\n",
    "dump_thermodynamics = 100\n",
    "dump_trajectory = 100\n",
    "time_step = 1.0 # [fs]\n",
    "velocity_seed = 391624\n",
    "temperature_1 = 100 # [K]\n",
    "langevin_seed = 537199\n",
    "deformation_freq = 1\n",
    "deformation_scale = 0.957\n",
    "n_steps = 1000"
   ]
  },
  {
   "cell_type": "code",
   "execution_count": null,
   "id": "b0d90b9c",
   "metadata": {},
   "outputs": [],
   "source": [
    "# Output files\n",
    "out_file_1 = \"compressed_water-graph_40%.data\""
   ]
  },
  {
   "cell_type": "code",
   "execution_count": null,
   "id": "1e07f424",
   "metadata": {},
   "outputs": [],
   "source": [
    "# Physical observables\n",
    "lmp.commands_list([\n",
    "    \"compute temp_water water temp\",\n",
    "    \"compute temp_graph graph temp\",\n",
    "    \"compute msqdis  all msd com yes\"\n",
    "])"
   ]
  },
  {
   "cell_type": "code",
   "execution_count": null,
   "id": "d7b88e8a",
   "metadata": {},
   "outputs": [],
   "source": [
    "# Output.\n",
    "lmp.commands_list([\n",
    "    \"thermo \"+str(dump_thermodynamics),\n",
    "    \"\"\"thermo_style custom step etotal evdwl ecoul elong ebond eangle ke pe temp c_temp_water c_temp_graph &\n",
    "    press vol density c_msqdis[1] c_msqdis[2] c_msqdis[3] c_msqdis[4] cpu\"\"\",\n",
    "    \"thermo_modify flush yes\"\n",
    "])"
   ]
  },
  {
   "cell_type": "code",
   "execution_count": null,
   "id": "e9f22257",
   "metadata": {},
   "outputs": [],
   "source": [
    "# Save UNWRAPPED coordinates.\n",
    "lmp.commands_list([\n",
    "    \"dump 1 all custom \"+str(dump_trajectory)+\" ${run}.dump id type element x y z xu yu zu vx vy vz mol\",\n",
    "    \"dump_modify 1 element O H C C O H\"\n",
    "])"
   ]
  },
  {
   "cell_type": "code",
   "execution_count": null,
   "id": "bea58bb7",
   "metadata": {},
   "outputs": [],
   "source": [
    "# Fixes for: 1. Shrink the cell to the target density.\n",
    "lmp.commands_list([\n",
    "    \"timestep \"+str(time_step),\n",
    "    \"velocity water create ${temp} \"+str(velocity_seed)+\" dist gaussian\",\n",
    "    \"fix freeze graph setforce 0.0 0.0 0.0\",\n",
    "    \"fix 3 water nve\",\n",
    "    \"fix 4 water langevin ${temp} ${temp} \"+str(temperature_1)+\" \"+str(langevin_seed),\n",
    "    \"fix_modify 4 temp temp_water\", \n",
    "    \"fix 5 water deform \"+str(deformation_freq)+\" z scale \"+str(deformation_scale)+\" units box remap x\"\n",
    "])"
   ]
  },
  {
   "cell_type": "code",
   "execution_count": null,
   "id": "d7d0c23c",
   "metadata": {},
   "outputs": [],
   "source": [
    "\"\"\"\n",
    "for i in range(n_cycles) :\n",
    "    print(\"*** Shrinking step \",i,\"/\",n_cycles,\" ***\")\n",
    "    lmp.command(\"run \"+str(n_steps_per_cycle))\n",
    "\"\"\""
   ]
  },
  {
   "cell_type": "code",
   "execution_count": null,
   "id": "595db8bd",
   "metadata": {},
   "outputs": [],
   "source": [
    "# Very short run\n",
    "lmp.command(\"run \"+str(n_steps))"
   ]
  },
  {
   "cell_type": "code",
   "execution_count": null,
   "id": "7c0597be",
   "metadata": {},
   "outputs": [],
   "source": [
    "# Output\n",
    "lmp.command(\"write_data \"+out_file_1+\" nocoeff\")"
   ]
  },
  {
   "cell_type": "code",
   "execution_count": null,
   "id": "3b425159",
   "metadata": {},
   "outputs": [],
   "source": [
    "lmp.close()"
   ]
  }
 ],
 "metadata": {
  "kernelspec": {
   "display_name": "Python 3 (ipykernel)",
   "language": "python",
   "name": "python3"
  },
  "language_info": {
   "codemirror_mode": {
    "name": "ipython",
    "version": 3
   },
   "file_extension": ".py",
   "mimetype": "text/x-python",
   "name": "python",
   "nbconvert_exporter": "python",
   "pygments_lexer": "ipython3",
   "version": "3.10.0"
  }
 },
 "nbformat": 4,
 "nbformat_minor": 5
}
